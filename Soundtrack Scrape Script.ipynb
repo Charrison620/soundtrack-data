{
 "cells": [
  {
   "cell_type": "code",
   "execution_count": 64,
   "metadata": {
    "scrolled": false
   },
   "outputs": [],
   "source": [
    "from bs4 import BeautifulSoup\n",
    "import urllib \n",
    "import re\n",
    "from urllib.parse import unquote\n",
    "import string\n",
    "import dateutil.parser as dateparser\n",
    "from time import sleep\n",
    "from pprint import pprint\n",
    "import os\n",
    "import json\n",
    "import datetime\n",
    "\n",
    "\n",
    "folder = os.path.join('C:/', 'users', 'charr', 'documents', 'soundtrack')\n",
    "letters = list(string.ascii_uppercase)"
   ]
  },
  {
   "cell_type": "code",
   "execution_count": 14,
   "metadata": {
    "scrolled": true
   },
   "outputs": [],
   "source": [
    "movie_list = []\n",
    "for letter in letters:\n",
    "    html_text = urllib.request.urlopen(f\"http://www.soundtrackinfo.com/lettersearch/{letter}/\").read()\n",
    "    soup = BeautifulSoup(html_text, 'html.parser')\n",
    "\n",
    "    letter_list = str(soup.find_all(['td', 'tr'])[80:]).split(\"\\n\")[1:-1]\n",
    "\n",
    "    index_list = []\n",
    "    for string in letter_list:\n",
    "        lst = [i for i,x in enumerate(string) if x == '>' or x == '<' ]\n",
    "        index_list.append(lst)\n",
    "\n",
    "    \n",
    "    for i,x in enumerate(letter_list):\n",
    "        movie_list.append([x[index_list[i][1]+1:index_list[i][2]], x[index_list[i][3]+1:index_list[i][4]]])\n",
    "    \n",
    "#movie_list"
   ]
  },
  {
   "cell_type": "code",
   "execution_count": 15,
   "metadata": {},
   "outputs": [
    {
     "data": {
      "text/plain": [
       "13973"
      ]
     },
     "execution_count": 15,
     "metadata": {},
     "output_type": "execute_result"
    }
   ],
   "source": [
    "len(movie_list)"
   ]
  },
  {
   "cell_type": "code",
   "execution_count": 16,
   "metadata": {},
   "outputs": [],
   "source": [
    "url_list = []\n",
    "for letter in letters:\n",
    "    html_text = urllib.request.urlopen(f\"http://www.soundtrackinfo.com/lettersearch/{letter}/\").read()\n",
    "    soup = BeautifulSoup(html_text, 'html.parser')\n",
    "\n",
    "    for i in soup.find_all(['td', 'tr', 'a'])[80:]:\n",
    "        if i.get('href') != None:\n",
    "            url_list.append(i.get('href'))\n",
    "            \n",
    "#url_list"
   ]
  },
  {
   "cell_type": "code",
   "execution_count": 17,
   "metadata": {},
   "outputs": [
    {
     "data": {
      "text/plain": [
       "12457"
      ]
     },
     "execution_count": 17,
     "metadata": {},
     "output_type": "execute_result"
    }
   ],
   "source": [
    "len(url_list)"
   ]
  },
  {
   "cell_type": "code",
   "execution_count": 60,
   "metadata": {},
   "outputs": [],
   "source": [
    "def save_tweet_dict(dct):\n",
    "    file_suffix = datetime.datetime.now().strftime('%Y%m%d_%H%M%S')\n",
    "    filename = 'soundtrack_data' + file_suffix + '.json'\n",
    "    filepath = os.path.join(folder, filename)\n",
    "    with open(filepath, mode='w', encoding = 'utf-8') as f:\n",
    "        json.dump(dct, f)"
   ]
  },
  {
   "cell_type": "code",
   "execution_count": 66,
   "metadata": {
    "scrolled": true
   },
   "outputs": [],
   "source": [
    "soundtrack_dct = {}\n",
    "error_list = []\n",
    "for url in url_list:\n",
    "    if len(soundtrack_dct) > 1000:\n",
    "        save_tweet_dict(soundtrack_dct)\n",
    "        soundtrack_dct = {}\n",
    "    else: \n",
    "        try:\n",
    "            if \"/lettersearch/only\" not in url:\n",
    "                html_text = urllib.request.urlopen(f\"http://www.soundtrackinfo.com/tracks{url[4:]}\").read()\n",
    "                soup = BeautifulSoup(html_text, 'html.parser')\n",
    "\n",
    "                tables = [[[td.get_text(strip=True) for td in tr.find_all('td')] for tr in table.find_all('tr')] for table in soup.find_all('table')]\n",
    "                soundtrack_dct[url[4:].strip('/')] = tables[2][0]\n",
    "        except:\n",
    "            error_list.append(url)\n"
   ]
  },
  {
   "cell_type": "code",
   "execution_count": 67,
   "metadata": {},
   "outputs": [],
   "source": [
    "#final soundtrack_dct for last group of <1000 movies\n",
    "save_tweet_dict(soundtrack_dct)"
   ]
  },
  {
   "cell_type": "code",
   "execution_count": 68,
   "metadata": {},
   "outputs": [
    {
     "data": {
      "text/plain": [
       "0"
      ]
     },
     "execution_count": 68,
     "metadata": {},
     "output_type": "execute_result"
    }
   ],
   "source": [
    "len(error_list)"
   ]
  }
 ],
 "metadata": {
  "kernelspec": {
   "display_name": "Python 3",
   "language": "python",
   "name": "python3"
  },
  "language_info": {
   "codemirror_mode": {
    "name": "ipython",
    "version": 3
   },
   "file_extension": ".py",
   "mimetype": "text/x-python",
   "name": "python",
   "nbconvert_exporter": "python",
   "pygments_lexer": "ipython3",
   "version": "3.7.6"
  }
 },
 "nbformat": 4,
 "nbformat_minor": 4
}
