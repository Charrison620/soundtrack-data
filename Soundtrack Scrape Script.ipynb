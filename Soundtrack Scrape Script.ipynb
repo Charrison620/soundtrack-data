{
 "cells": [
  {
   "cell_type": "code",
   "execution_count": 1,
   "metadata": {
    "scrolled": false
   },
   "outputs": [],
   "source": [
    "from bs4 import BeautifulSoup\n",
    "import urllib \n",
    "import re\n",
    "from urllib.parse import unquote\n",
    "import string\n",
    "import dateutil.parser as dateparser\n",
    "from time import sleep\n",
    "from pprint import pprint\n",
    "import os\n",
    "import json\n",
    "import datetime\n",
    "\n",
    "\n",
    "folder = os.path.join('C:/', 'users', 'charr', 'documents', 'soundtrack')\n",
    "letters = list(string.ascii_uppercase)"
   ]
  },
  {
   "cell_type": "code",
   "execution_count": 2,
   "metadata": {
    "scrolled": true
   },
   "outputs": [],
   "source": [
    "def get_image(soup):\n",
    "    try:\n",
    "        return [[[td.get('src') for td in tr.find_all('img')] for tr in table.find_all('tr')][0] for table in soup.find_all('table')[2:]][0][0]\n",
    "    except:\n",
    "        return'No Image Available'\n",
    "    \n",
    "        \n",
    "def get_album_info(soup):\n",
    "    try:\n",
    "        alb = [[[td for td in tr.find_all('td')] for tr in table.find_all('tr')] for table in soup.find_all('table')[3:]][1]\n",
    "        album_info = {}\n",
    "        for l in alb:\n",
    "            if len(l) > 1:\n",
    "                for i in l:\n",
    "                    if i.get('class') == ['infoline']:\n",
    "                        info = i.get_text(strip=True).split(\":\")\n",
    "                        album_info[info[0]] = info[1:]\n",
    "            if len(l) == 1:\n",
    "                if l[0].get('class') == ['composerline']:\n",
    "                    album_info['composer'] = l[0].get_text()\n",
    "        return album_info\n",
    "    except:\n",
    "        return'No Album Information'\n",
    "\n",
    "def get_song_info(soup):\n",
    "    try:\n",
    "        songs = [[[td for td in tr.find_all('td')] for tr in table.find_all('tr')] for table in soup.find_all('table')][2:][0]\n",
    "\n",
    "        index = []\n",
    "        for j,l in enumerate(songs):\n",
    "            for i,x in enumerate(l):\n",
    "                if x.get_text() == 'Album Tracklist':\n",
    "                    index.append(i)\n",
    "\n",
    "        song_list = []\n",
    "        for i in range(index[0]-1, len(songs)-5):\n",
    "            song_list.append(songs[i])\n",
    "\n",
    "        final_song_list = []\n",
    "        for i in song_list:\n",
    "            if len(i) > 1:\n",
    "                final_song_list.append(i[1].get_text(strip=True).split(\"-\"))\n",
    "\n",
    "        return final_song_list\n",
    "    except:\n",
    "        return 'No Song Data Available'\n",
    "        \n",
    "def get_soundtrack_information(soup):\n",
    "    info_dct = {'img': get_image(soup), \n",
    "                'album': get_album_info(soup), \n",
    "                'songs': get_song_info(soup)}\n",
    "    return info_dct"
   ]
  },
  {
   "cell_type": "code",
   "execution_count": 3,
   "metadata": {},
   "outputs": [],
   "source": [
    "url_list = []\n",
    "for letter in letters:\n",
    "    html_text = urllib.request.urlopen(f\"http://www.soundtrackinfo.com/lettersearch/{letter}/\").read()\n",
    "    soup = BeautifulSoup(html_text, 'html.parser')\n",
    "\n",
    "    for i in soup.find_all(['td', 'tr', 'a'])[80:]:\n",
    "        if i.get('href') != None:\n",
    "            url_list.append(i.get('href'))\n",
    "            \n",
    "#url_list"
   ]
  },
  {
   "cell_type": "code",
   "execution_count": 4,
   "metadata": {},
   "outputs": [
    {
     "data": {
      "text/plain": [
       "12458"
      ]
     },
     "execution_count": 4,
     "metadata": {},
     "output_type": "execute_result"
    }
   ],
   "source": [
    "len(url_list)"
   ]
  },
  {
   "cell_type": "code",
   "execution_count": 5,
   "metadata": {},
   "outputs": [],
   "source": [
    "def save_tweet_dict(dct):\n",
    "    file_suffix = datetime.datetime.now().strftime('%Y%m%d_%H%M%S')\n",
    "    filename = 'soundtrack_data' + file_suffix + '.json'\n",
    "    filepath = os.path.join(folder, filename)\n",
    "    with open(filepath, mode='w', encoding = 'utf-8') as f:\n",
    "        json.dump(dct, f)"
   ]
  },
  {
   "cell_type": "code",
   "execution_count": 8,
   "metadata": {
    "scrolled": true
   },
   "outputs": [],
   "source": [
    "soundtrack_dct = {}\n",
    "error_list = []\n",
    "for url in url_list:\n",
    "    if len(soundtrack_dct) > 1000:\n",
    "        save_tweet_dict(soundtrack_dct)\n",
    "        soundtrack_dct = {}\n",
    "    else: \n",
    "        try:\n",
    "            if \"/lettersearch/only\" not in url:\n",
    "                html_text = urllib.request.urlopen(f\"http://www.soundtrackinfo.com/tracks{url[4:]}\").read()\n",
    "                soup = BeautifulSoup(html_text, 'html.parser')\n",
    "\n",
    "                soundtrack_dct[url[4:].strip('/')] = get_soundtrack_information(soup)\n",
    "        except:\n",
    "            error_list.append(url)\n"
   ]
  },
  {
   "cell_type": "code",
   "execution_count": 9,
   "metadata": {},
   "outputs": [],
   "source": [
    "#final soundtrack_dct for last group of <1000 movies\n",
    "save_tweet_dict(soundtrack_dct)"
   ]
  },
  {
   "cell_type": "code",
   "execution_count": 10,
   "metadata": {},
   "outputs": [
    {
     "data": {
      "text/plain": [
       "0"
      ]
     },
     "execution_count": 10,
     "metadata": {},
     "output_type": "execute_result"
    }
   ],
   "source": [
    "len(error_list)"
   ]
  },
  {
   "cell_type": "code",
   "execution_count": null,
   "metadata": {},
   "outputs": [],
   "source": []
  }
 ],
 "metadata": {
  "kernelspec": {
   "display_name": "Python 3",
   "language": "python",
   "name": "python3"
  },
  "language_info": {
   "codemirror_mode": {
    "name": "ipython",
    "version": 3
   },
   "file_extension": ".py",
   "mimetype": "text/x-python",
   "name": "python",
   "nbconvert_exporter": "python",
   "pygments_lexer": "ipython3",
   "version": "3.7.6"
  }
 },
 "nbformat": 4,
 "nbformat_minor": 4
}
